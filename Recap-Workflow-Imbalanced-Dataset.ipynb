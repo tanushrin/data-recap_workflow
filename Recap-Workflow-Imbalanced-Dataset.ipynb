{
 "cells": [
  {
   "cell_type": "markdown",
   "metadata": {},
   "source": [
    "# Let's have a look at the data!"
   ]
  },
  {
   "cell_type": "markdown",
   "metadata": {},
   "source": [
    "In this recap, we'll work with this dataset from Kaggle: https://www.kaggle.com/datasets/saurabhbagchi/dish-network-hackathon?select=Train_Dataset.csv"
   ]
  },
  {
   "cell_type": "code",
   "execution_count": null,
   "metadata": {},
   "outputs": [],
   "source": [
    "import pandas as pd\n",
    "pd.set_option('display.max_columns', None)\n",
    "import numpy as np\n",
    "\n",
    "data = pd.read_csv(\"data/Train_Dataset.csv\")"
   ]
  },
  {
   "cell_type": "code",
   "execution_count": null,
   "metadata": {},
   "outputs": [],
   "source": [
    "data.head()"
   ]
  },
  {
   "cell_type": "code",
   "execution_count": null,
   "metadata": {},
   "outputs": [],
   "source": [
    "X = data.drop(columns=[\"Default\", \"ID\"])\n",
    "y = data.Default"
   ]
  },
  {
   "cell_type": "code",
   "execution_count": null,
   "metadata": {},
   "outputs": [],
   "source": [
    "y.value_counts(normalize = True)"
   ]
  },
  {
   "cell_type": "code",
   "execution_count": null,
   "metadata": {},
   "outputs": [],
   "source": [
    "from sklearn.model_selection import train_test_split\n",
    "\n",
    "X_train, X_test, y_train, y_test = train_test_split(X, y, test_size=0.2, random_state=42, stratify = y)"
   ]
  },
  {
   "cell_type": "code",
   "execution_count": null,
   "metadata": {},
   "outputs": [],
   "source": [
    "X_train.dtypes"
   ]
  },
  {
   "cell_type": "code",
   "execution_count": null,
   "metadata": {},
   "outputs": [],
   "source": [
    "# Unfortunately we get an error here!\n",
    "X_train[\"Client_Income\"].astype(float)"
   ]
  },
  {
   "cell_type": "code",
   "execution_count": null,
   "metadata": {},
   "outputs": [],
   "source": [
    "col_to_fix = [\"Score_Source_3\", \n",
    "              \"Client_Income\", \n",
    "              \"Credit_Amount\", \n",
    "              \"Loan_Annuity\", \n",
    "              \"Age_Days\",\n",
    "              \"Employed_Days\",\n",
    "              \"Registration_Days\",\n",
    "              \"ID_Days\",\n",
    "              \"Population_Region_Relative\"\n",
    "             ]"
   ]
  },
  {
   "cell_type": "markdown",
   "metadata": {},
   "source": [
    "# Building the pipeline and fixing that type!"
   ]
  },
  {
   "cell_type": "code",
   "execution_count": null,
   "metadata": {},
   "outputs": [],
   "source": [
    "import string\n",
    "\n",
    "print(string.punctuation)\n",
    "print(string.ascii_letters)"
   ]
  },
  {
   "cell_type": "code",
   "execution_count": null,
   "metadata": {},
   "outputs": [],
   "source": [
    "string.punctuation.replace(\".\", \"\") + string.ascii_letters"
   ]
  },
  {
   "cell_type": "code",
   "execution_count": null,
   "metadata": {},
   "outputs": [],
   "source": [
    "def clean_df(X):\n",
    "    \n",
    "    def clean_value(value):\n",
    "        unwanted_char = string.punctuation.replace(\".\", \"\") + string.ascii_letters \n",
    "        for tag in unwanted_char:\n",
    "            value = value.replace(tag, \"\")\n",
    "        value = np.nan if not value else value\n",
    "        return float(value)\n",
    "    \n",
    "    X = pd.DataFrame(X)\n",
    "    X = X.astype(str).applymap(clean_value)\n",
    "    return X\n",
    "        "
   ]
  },
  {
   "cell_type": "code",
   "execution_count": null,
   "metadata": {},
   "outputs": [],
   "source": [
    "from sklearn.pipeline import Pipeline, FunctionTransformer\n",
    "from sklearn.compose import ColumnTransformer, make_column_selector"
   ]
  },
  {
   "cell_type": "code",
   "execution_count": null,
   "metadata": {},
   "outputs": [],
   "source": [
    "cleaner = FunctionTransformer(clean_df)\n",
    "\n",
    "type_cleaner = ColumnTransformer(\n",
    "    [(\"type_cleaner\", cleaner, col_to_fix)],\n",
    "    remainder = \"passthrough\").set_output(transform = \"pandas\")"
   ]
  },
  {
   "cell_type": "code",
   "execution_count": null,
   "metadata": {},
   "outputs": [],
   "source": [
    "type_cleaner.fit_transform(X_train)"
   ]
  },
  {
   "cell_type": "code",
   "execution_count": null,
   "metadata": {},
   "outputs": [],
   "source": [
    "from sklearn.preprocessing import OneHotEncoder, StandardScaler\n",
    "from sklearn.impute import SimpleImputer"
   ]
  },
  {
   "cell_type": "code",
   "execution_count": null,
   "metadata": {},
   "outputs": [],
   "source": [
    "num_preproc = Pipeline([\n",
    "    (\"num_imputer\", SimpleImputer(strategy = \"constant\", fill_value=0.)),\n",
    "    (\"scaler\", StandardScaler())\n",
    "])"
   ]
  },
  {
   "cell_type": "code",
   "execution_count": null,
   "metadata": {},
   "outputs": [],
   "source": [
    "cat_preproc = Pipeline([\n",
    "    (\"cat_imputer\", SimpleImputer(strategy = \"constant\", fill_value=\"Missing\")),\n",
    "    (\"ohe\", OneHotEncoder(handle_unknown = \"ignore\", sparse_output=False))\n",
    "])"
   ]
  },
  {
   "cell_type": "code",
   "execution_count": null,
   "metadata": {},
   "outputs": [],
   "source": [
    "preproc = ColumnTransformer([\n",
    "    (\"num_tr\", num_preproc, make_column_selector(dtype_include = [\"float64\", \"int64\"])),\n",
    "    (\"cat_tr\", cat_preproc, make_column_selector(dtype_include = [\"object\"]))\n",
    "])"
   ]
  },
  {
   "cell_type": "code",
   "execution_count": null,
   "metadata": {},
   "outputs": [],
   "source": [
    "clean_preproc = Pipeline([\n",
    "    (\"cleaner\", type_cleaner),\n",
    "    (\"preprocessing\", preproc)])"
   ]
  },
  {
   "cell_type": "code",
   "execution_count": null,
   "metadata": {},
   "outputs": [],
   "source": [
    "from sklearn.linear_model import LogisticRegression\n",
    "\n",
    "pipe = Pipeline([\n",
    "    (\"clean_preproc\", clean_preproc),\n",
    "    (\"classifier\", LogisticRegression(max_iter = 1000))\n",
    "])\n",
    "    \n",
    "pipe"
   ]
  },
  {
   "cell_type": "code",
   "execution_count": null,
   "metadata": {},
   "outputs": [],
   "source": [
    "from sklearn.model_selection import cross_val_score"
   ]
  },
  {
   "cell_type": "code",
   "execution_count": null,
   "metadata": {},
   "outputs": [],
   "source": [
    "cross_val_score(pipe, X_train, y_train).mean()"
   ]
  },
  {
   "cell_type": "markdown",
   "metadata": {},
   "source": [
    "# Wait, are we doing things correctly?"
   ]
  },
  {
   "cell_type": "markdown",
   "metadata": {},
   "source": [
    "## What's wrong with cross validation?"
   ]
  },
  {
   "cell_type": "markdown",
   "metadata": {},
   "source": [
    "When tackling imbalanced datasets 🌓, let's arm ourselves with Stratified K-Fold Cross-Validation! 🛡️🔄\n",
    "\n",
    "Why, you ask? 🤔\n",
    "\n",
    "1. Regular K-Fold 🔄: Might leave out the minority class in some folds 😨! Leads to less reliable model evaluation. 😢\n",
    "\n",
    "\n",
    "2. Stratified K-Fold 🔀: Makes sure that each fold ⚙️ has a good proportion of both majority and minority classes. 🎉\n",
    "\n",
    "\n",
    "3. Reliable Evaluation 🎯: More representative of real-world performance. 🌍 Keeps both classes in check! 🤹‍♂️\n",
    "\n",
    "\n",
    "Better Model Tuning 🚀: Parameters honed with a clearer understanding of how your model handles the minority class! 🕵️‍♀️"
   ]
  },
  {
   "cell_type": "code",
   "execution_count": null,
   "metadata": {},
   "outputs": [],
   "source": [
    "from sklearn.model_selection import StratifiedKFold\n",
    "cv = StratifiedKFold(n_splits = 5)\n",
    "\n",
    "cross_val_score(pipe, X_train, y_train, cv = cv).mean()"
   ]
  },
  {
   "cell_type": "markdown",
   "metadata": {},
   "source": [
    "## What's wrong with accuracy?"
   ]
  },
  {
   "cell_type": "markdown",
   "metadata": {},
   "source": [
    "For imbalanced datasets 🌓, precision-recall AUC 📈 is king! 🤴\n",
    "\n",
    "Why? 🤔\n",
    "\n",
    "Accuracy 🎯 can be deceptive in imbalanced datasets. 😱\n",
    "\n",
    "\n",
    "High recall? Great, but beware of false positives. 🚨\n",
    "\n",
    "\n",
    "Precision-Recall AUC considers both precision & recall across thresholds. 🌟 More area under the curve = Better model! 💪\n",
    "\n",
    "\n",
    "Use average_precision_score in sklearn 🛠️ for a single-number summary. 🧮\n",
    "\n",
    "Let's have a look at this: https://scikit-learn.org/stable/auto_examples/model_selection/plot_precision_recall.html#sphx-glr-auto-examples-model-selection-plot-precision-recall-py"
   ]
  },
  {
   "cell_type": "code",
   "execution_count": null,
   "metadata": {},
   "outputs": [],
   "source": [
    "cv = StratifiedKFold(n_splits=5)\n",
    "cross_val_score(pipe, X_train, y_train, cv = cv, scoring = \"average_precision\").mean()"
   ]
  },
  {
   "cell_type": "code",
   "execution_count": null,
   "metadata": {},
   "outputs": [],
   "source": [
    "pipe.fit(X_train, y_train)"
   ]
  },
  {
   "cell_type": "code",
   "execution_count": null,
   "metadata": {},
   "outputs": [],
   "source": [
    "X_test.head()"
   ]
  },
  {
   "cell_type": "code",
   "execution_count": null,
   "metadata": {},
   "outputs": [],
   "source": [
    "from sklearn.metrics import PrecisionRecallDisplay, precision_recall_curve"
   ]
  },
  {
   "cell_type": "code",
   "execution_count": null,
   "metadata": {},
   "outputs": [],
   "source": [
    "y_pred_prob = pipe.predict_proba(X_test)[:,1]\n",
    "\n",
    "precision, recall, _ = precision_recall_curve(y_test, y_pred_prob)\n",
    "disp = PrecisionRecallDisplay(precision=precision, recall=recall)\n",
    "disp.plot()"
   ]
  },
  {
   "cell_type": "markdown",
   "metadata": {},
   "source": [
    "## Let's try a more complex model"
   ]
  },
  {
   "cell_type": "code",
   "execution_count": null,
   "metadata": {},
   "outputs": [],
   "source": [
    "from sklearn.ensemble import RandomForestClassifier"
   ]
  },
  {
   "cell_type": "code",
   "execution_count": null,
   "metadata": {},
   "outputs": [],
   "source": [
    "pipe = Pipeline([\n",
    "    (\"cleaner\", type_cleaner),\n",
    "    (\"preprocessing\", preproc),\n",
    "    (\"classifier\", RandomForestClassifier())\n",
    "])"
   ]
  },
  {
   "cell_type": "code",
   "execution_count": null,
   "metadata": {},
   "outputs": [],
   "source": [
    "cv = StratifiedKFold(n_splits=5)\n",
    "cross_val_score(pipe, X_train, y_train, cv = cv, scoring = \"average_precision\").mean()"
   ]
  },
  {
   "cell_type": "code",
   "execution_count": null,
   "metadata": {},
   "outputs": [],
   "source": [
    "pipe.fit(X_train, y_train)\n",
    "y_pred_prob = pipe.predict_proba(X_test)[:,1]\n",
    "\n",
    "precision, recall, _ = precision_recall_curve(y_test, y_pred_prob)\n",
    "disp = PrecisionRecallDisplay(precision=precision, recall=recall)\n",
    "disp.plot()"
   ]
  },
  {
   "cell_type": "code",
   "execution_count": null,
   "metadata": {},
   "outputs": [],
   "source": [
    "y_pred_prob"
   ]
  },
  {
   "cell_type": "markdown",
   "metadata": {},
   "source": [
    "## Let's take the class imbalance into account"
   ]
  },
  {
   "cell_type": "code",
   "execution_count": null,
   "metadata": {},
   "outputs": [],
   "source": [
    "pipe = Pipeline([\n",
    "    (\"cleaner\", type_cleaner),\n",
    "    (\"preprocessing\", preproc),\n",
    "    (\"classifier\", RandomForestClassifier(class_weight = \"balanced\"))\n",
    "])"
   ]
  },
  {
   "cell_type": "code",
   "execution_count": null,
   "metadata": {},
   "outputs": [],
   "source": [
    "cv = StratifiedKFold(n_splits=5)\n",
    "cross_val_score(pipe, X_train, y_train, cv = cv, scoring = \"average_precision\").mean()"
   ]
  },
  {
   "cell_type": "code",
   "execution_count": null,
   "metadata": {},
   "outputs": [],
   "source": [
    "pipe.fit(X_train, y_train)\n",
    "y_pred_prob = pipe.predict_proba(X_test)[:,1]\n",
    "\n",
    "\n",
    "precision, recall, _ = precision_recall_curve(y_test, y_pred_prob)\n",
    "disp = PrecisionRecallDisplay(precision=precision, recall=recall)\n",
    "disp.plot()"
   ]
  },
  {
   "cell_type": "markdown",
   "metadata": {},
   "source": [
    "# Model Calibration"
   ]
  },
  {
   "cell_type": "markdown",
   "metadata": {},
   "source": [
    "Picture this: You’ve built a stellar model 🌟 that spits out probabilities. You’re happy, your model's happy, but WAIT! Are those probabilities trustworthy? 🤔\n",
    "\n",
    "🎺 Enter: Model Calibration! 🎺\n",
    "\n",
    "Here’s why it's like the cherry 🍒 on top of your model sundae:\n",
    "\n",
    "1. Trustworthy Probabilities 📊: When your model says there’s an 80% chance of rain ☔, it should rain about 80% of the time! Calibration ensures that the output probabilities reflect the true likelihood of events.\n",
    "\n",
    "\n",
    "2. Informed Decisions 💡: With calibrated probabilities, you can make wiser decisions! It’s like knowing exactly how much dragon repellent 🐲 to carry on your quest.\n",
    "\n",
    "\n",
    "3. Model Comparison 🤺: Two models enter, one model leaves! When comparing models, well-calibrated probabilities help you pick the true hero 🦸 that can wield the Excalibur 🗡️ of predictions!\n",
    "\n",
    "\n",
    "4. Better Risk Management 💼: In finance, healthcare or any domain with high stakes, making decisions is like juggling with potions 🧪. Calibrated probabilities keep the potion mix just right!\n",
    "\n",
    "\n",
    "5. Custom Thresholds 🚥: Not all battles are fought the same! Sometimes, you need to change your strategy. Calibrated probabilities let you set custom thresholds to optimize for precision or recall, depending on your quest's objective.\n",
    "\n",
    "\n",
    "Let's have a look at this: https://scikit-learn.org/stable/modules/calibration.html#calibration"
   ]
  },
  {
   "cell_type": "code",
   "execution_count": null,
   "metadata": {},
   "outputs": [],
   "source": [
    "from sklearn.calibration import CalibratedClassifierCV, CalibrationDisplay, calibration_curve"
   ]
  },
  {
   "cell_type": "code",
   "execution_count": null,
   "metadata": {},
   "outputs": [],
   "source": [
    "prob_true, prob_pred = calibration_curve(y_test, y_pred_prob, n_bins=10)\n",
    "\n",
    "disp = CalibrationDisplay(prob_true, prob_pred, y_pred_prob)\n",
    "disp.plot()"
   ]
  },
  {
   "cell_type": "code",
   "execution_count": null,
   "metadata": {},
   "outputs": [],
   "source": [
    "calibrated_clf = CalibratedClassifierCV(pipe, cv=cv)\n",
    "calibrated_clf.fit(X_train, y_train)"
   ]
  },
  {
   "cell_type": "code",
   "execution_count": null,
   "metadata": {},
   "outputs": [],
   "source": [
    "y_pred_prob = calibrated_clf.predict_proba(X_test)[:,1]\n",
    "\n",
    "prob_true, prob_pred = calibration_curve(y_test, y_pred_prob, n_bins=10)\n",
    "\n",
    "disp = CalibrationDisplay(prob_true, prob_pred, y_pred_prob)\n",
    "disp.plot()"
   ]
  },
  {
   "cell_type": "code",
   "execution_count": null,
   "metadata": {},
   "outputs": [],
   "source": [
    "# N.B. This can take quite some time to run!\n",
    "cv = StratifiedKFold(n_splits=5)\n",
    "cross_val_score(calibrated_clf, X_train, y_train, cv = cv, scoring = \"average_precision\").mean()"
   ]
  },
  {
   "cell_type": "markdown",
   "metadata": {},
   "source": [
    "# Next Steps"
   ]
  },
  {
   "cell_type": "markdown",
   "metadata": {},
   "source": [
    "We have a calibrated model, but our job is not over! If we're not satisfied with the performances we can perform:\n",
    "- Parameter Tuning (Grid Search)\n",
    "- Try even more advanced models\n",
    "- Perform Oversampling or Undersampling\n",
    "\n",
    "Let's have a quick look at the last option, by using the Imbalanced-Learn library"
   ]
  },
  {
   "cell_type": "code",
   "execution_count": null,
   "metadata": {},
   "outputs": [],
   "source": [
    "#!pip install imbalanced-learn"
   ]
  },
  {
   "cell_type": "code",
   "execution_count": null,
   "metadata": {},
   "outputs": [],
   "source": [
    "X_train_preproc = clean_preproc.fit_transform(X_train)"
   ]
  },
  {
   "cell_type": "code",
   "execution_count": null,
   "metadata": {},
   "outputs": [],
   "source": [
    "print(X_train_preproc.shape)\n",
    "print(y_train.value_counts())"
   ]
  },
  {
   "cell_type": "markdown",
   "metadata": {},
   "source": [
    "## Oversampling - SMOTE"
   ]
  },
  {
   "cell_type": "markdown",
   "metadata": {},
   "source": [
    "SMOTE is like an artist that creates new, synthetic examples to boost the minority class. It does this by interpolating between existing minority examples. The aim is to make the minority class larger and therefore more significant for the model. But be careful! SMOTE can sometimes create noise by generating synthetic examples too far from the original ones."
   ]
  },
  {
   "attachments": {
    "image-2.png": {
     "image/png": "[encoded data removed]"
    }
   },
   "cell_type": "markdown",
   "metadata": {},
   "source": [
    "![image-2.png](attachment:image-2.png)"
   ]
  },
  {
   "cell_type": "code",
   "execution_count": null,
   "metadata": {},
   "outputs": [],
   "source": [
    "from imblearn.over_sampling import SMOTE\n",
    "\n",
    "smote = SMOTE(random_state=42)\n",
    "X_train_res, y_train_res = smote.fit_resample(X_train_preproc, y_train)\n",
    "\n",
    "print(X_train_res.shape)\n",
    "print(y_train_res.shape)\n",
    "y_train_res.value_counts()"
   ]
  },
  {
   "cell_type": "markdown",
   "metadata": {},
   "source": [
    "## Undersampling - Random Under Sampler"
   ]
  },
  {
   "cell_type": "markdown",
   "metadata": {},
   "source": [
    "Imagine RUS as a waste disposal unit that randomly discards some examples from the majority class to balance the dataset. By doing so, it makes the model focus more on the minority class. However, since it throws away data, it might discard useful information as well. So use RUS with caution!"
   ]
  },
  {
   "attachments": {
    "image.png": {
     "image/png": "[encoded data removed]"
    }
   },
   "cell_type": "markdown",
   "metadata": {},
   "source": [
    "![image.png](attachment:image.png)"
   ]
  },
  {
   "cell_type": "code",
   "execution_count": null,
   "metadata": {},
   "outputs": [],
   "source": [
    "from imblearn.under_sampling import RandomUnderSampler\n",
    "\n",
    "rus = RandomUnderSampler(random_state=42)\n",
    "X_train_res, y_train_res = rus.fit_resample(X_train_preproc, y_train)\n",
    "\n",
    "print(X_train_res.shape)\n",
    "print(y_train_res.shape)\n",
    "y_train_res.value_counts()\n"
   ]
  },
  {
   "cell_type": "markdown",
   "metadata": {},
   "source": [
    "## Undersampling - Tomek Link"
   ]
  },
  {
   "cell_type": "markdown",
   "metadata": {},
   "source": [
    "Tomek Links act like a magnet that attracts pairs of close majority and minority class examples (forming a 'link'). If a majority class example forms a Tomek Link, it's removed, helping to clean the borderline between classes. This removal of 'borderline' majority examples can make the model less biased towards the majority class. But, this method may not be sufficient if the imbalance is severe."
   ]
  },
  {
   "attachments": {
    "image.png": {
     "image/png": "[encoded data removed]"
    }
   },
   "cell_type": "markdown",
   "metadata": {},
   "source": [
    "![image.png](attachment:image.png)"
   ]
  },
  {
   "cell_type": "code",
   "execution_count": null,
   "metadata": {},
   "outputs": [],
   "source": [
    "from imblearn.under_sampling import TomekLinks\n",
    "\n",
    "tl = TomekLinks()\n",
    "X_train_res, y_train_res = tl.fit_resample(X_train_preproc, y_train)\n",
    "\n",
    "print(X_train_res.shape)\n",
    "print(y_train_res.shape)\n",
    "y_train_res.value_counts()\n"
   ]
  }
 ],
 "metadata": {
  "kernelspec": {
   "display_name": "Python 3",
   "language": "python",
   "name": "python3"
  }
 },
 "nbformat": 4,
 "nbformat_minor": 5
}
